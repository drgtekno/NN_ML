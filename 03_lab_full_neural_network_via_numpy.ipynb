{
 "cells": [
  {
   "cell_type": "markdown",
   "id": "5770570e",
   "metadata": {
    "id": "5770570e"
   },
   "source": [
    "# Лабораторная работа №3\n",
    "\n",
    "ФИО:  Стригунов Александр Юрьевич\n",
    "Группа: БИВТ-20-3\n",
    "\n",
    "Отправлять можно следующими способами (**обязательно указать свое ФИО и группу в каком-либо виде**):\n",
    "1. Создать **приватный** репозиторий на github, добавить меня по нику (l3lush) в Collaborators (Settings -> Collaborators -> Add people)\n",
    "2. Отправить заполненный ноутбук мне на почту avmysh@gmail.com, либо m1603956@edu.misis.ru\n",
    "3. Отправить заполненный ноутбук мне в тг @l3lush. \n",
    "\n",
    "**Deadlines**:\n",
    "- soft -- **16.04.2023 23:59** (за сдачу в пределах этого времени +1 балл в табличку)\n",
    "- hard -- **30.04.2023 23:59**\n",
    "\n",
    "\n",
    "**Что необходимо сделать**:\n",
    "1. Заполнить все ячейки ниже кодом так, чтобы прошли все `assert`ы.\n",
    "2. **Побороть качество моей модели** (в конце ноутбука)\n",
    "\n",
    "\n",
    "**P.S. Используйте части кода с прошлой лабы для forward pass**"
   ]
  },
  {
   "cell_type": "markdown",
   "id": "d1c9b5d0",
   "metadata": {
    "id": "d1c9b5d0"
   },
   "source": [
    "Сначала импортируем нужные библиотеки  \n",
    "Если чего-то нет локально, можно установить через pip install"
   ]
  },
  {
   "cell_type": "code",
   "execution_count": 1,
   "id": "99ca7f8b",
   "metadata": {
    "id": "99ca7f8b"
   },
   "outputs": [],
   "source": [
    "import numpy as np\n",
    "import matplotlib.pyplot as plt\n",
    "\n",
    "from IPython.display import clear_output"
   ]
  },
  {
   "cell_type": "markdown",
   "id": "3704002f",
   "metadata": {
    "id": "3704002f"
   },
   "source": [
    "# Задача 1. Реализовать слой с функцией активации \"сигмоида\""
   ]
  },
  {
   "cell_type": "markdown",
   "id": "edf0b72b",
   "metadata": {
    "id": "edf0b72b"
   },
   "source": [
    "![](https://upload.wikimedia.org/wikipedia/commons/thumb/8/88/Logistic-curve.svg/1200px-Logistic-curve.svg.png)"
   ]
  },
  {
   "cell_type": "markdown",
   "id": "6cbd5a25",
   "metadata": {
    "id": "6cbd5a25"
   },
   "source": [
    "Формула сигмоиды:\n",
    "$$\n",
    "f(x) = \\frac {1}{1 + e^{-x}}\n",
    "$$"
   ]
  },
  {
   "cell_type": "code",
   "execution_count": 2,
   "id": "2156cdb3",
   "metadata": {
    "id": "2156cdb3"
   },
   "outputs": [],
   "source": [
    "class SigmoidLayer():\n",
    "    def __init__(self):\n",
    "        self.params = []\n",
    "        self.gradInput = None\n",
    "        self.gradW = None\n",
    "\n",
    "    def forward(self, X):\n",
    "        self.X = X.copy()\n",
    "        output = (1 / (1 + np.exp(-X)))\n",
    "        return output\n",
    "    \n",
    "    def backward(self, dout):\n",
    "        sigmoid_output = self.forward(self.X)\n",
    "        dx = (1 - sigmoid_output) * sigmoid_output * dout\n",
    "        self.gradInput = dx\n",
    "        return self.gradInput, []\n",
    "        "
   ]
  },
  {
   "cell_type": "code",
   "execution_count": 3,
   "id": "3fa22d18",
   "metadata": {
    "id": "3fa22d18"
   },
   "outputs": [],
   "source": [
    "np.random.seed(17)\n",
    "\n",
    "X = np.random.random(size=(100, 3))\n",
    "sigmoid = SigmoidLayer()\n",
    "output = sigmoid.forward(X)\n",
    "correct_answer = np.array([[0.57313782, 0.62961995, 0.54773438],\n",
    "                           [0.51696857, 0.68718368, 0.65843628],\n",
    "                           [0.65419284, 0.64005501, 0.50976449],\n",
    "                           [0.58851107, 0.7202462 , 0.51500666],\n",
    "                           [0.70350447, 0.70626044, 0.51279562]])\n",
    "assert np.isclose(output[:5], correct_answer).all()\n",
    "assert hasattr(sigmoid, \"params\"), \"Нет параметра params в реализованном классе\"\n",
    "assert hasattr(sigmoid, \"gradInput\"), \"Нет параметра gradInput в реализованном классе\"\n",
    "assert hasattr(sigmoid, \"X\"), \"Не сохранили X в реализованном классе\"\n",
    "\n",
    "\n",
    "dout = np.random.random(size=(100, 3))\n",
    "dInput, _ = sigmoid.backward(dout)\n",
    "correct_dInput = np.array([[0.19460589, 0.20407074, 0.17488009],\n",
    "                           [0.1656316 , 0.10298473, 0.08073351],\n",
    "                           [0.21590141, 0.1403435 , 0.21416212],\n",
    "                           [0.21320927, 0.03610846, 0.05416308],\n",
    "                           [0.00737656, 0.03121984, 0.02882668]])\n",
    "assert np.isclose(dInput[:5], correct_dInput).all()"
   ]
  },
  {
   "cell_type": "markdown",
   "id": "3b1aa776",
   "metadata": {
    "id": "3b1aa776"
   },
   "source": [
    "# Задача 2. Реализовать слой с активацией гиперболического тангенса"
   ]
  },
  {
   "cell_type": "markdown",
   "id": "57c26084",
   "metadata": {
    "id": "57c26084"
   },
   "source": [
    "![](https://production-media.paperswithcode.com/methods/Screen_Shot_2020-05-27_at_4.23.22_PM_dcuMBJl.png)"
   ]
  },
  {
   "cell_type": "code",
   "execution_count": 4,
   "id": "920cf0fd",
   "metadata": {
    "id": "920cf0fd"
   },
   "outputs": [],
   "source": [
    "class TanhLayer():\n",
    "    def __init__(self):\n",
    "        self.params = []\n",
    "        self.gradInput = None\n",
    "        self.gradW = None\n",
    "        \n",
    "\n",
    "    def forward(self, X):\n",
    "        self.X = X.copy()\n",
    "        output = ((np.exp(X) - np.exp(-X))/(np.exp(X) + np.exp(-X)))\n",
    "        return output\n",
    "    \n",
    "    def backward(self, dout):\n",
    "        output = self.forward(self.X)\n",
    "        self.gradInput = (1 - output ** 2) * dout\n",
    "\n",
    "        return self.gradInput, []"
   ]
  },
  {
   "cell_type": "code",
   "execution_count": 5,
   "id": "4088016c",
   "metadata": {
    "id": "4088016c"
   },
   "outputs": [],
   "source": [
    "np.random.seed(17)\n",
    "\n",
    "X = np.random.random(size=(100, 3))\n",
    "tanh = TanhLayer()\n",
    "output = tanh.forward(X)\n",
    "correct_answer = np.array([[0.28642281, 0.48582948, 0.18921297],\n",
    "                           [0.0677962 , 0.65669792, 0.57591821],\n",
    "                           [0.5632092 , 0.51946218, 0.03904306],\n",
    "                           [0.34328675, 0.73782249, 0.05997262],\n",
    "                           [0.69833441, 0.70505935, 0.05114899]])\n",
    "assert np.isclose(output[:5], correct_answer).all()\n",
    "assert hasattr(tanh, \"params\"), \"Нет параметра params в реализованном классе\"\n",
    "assert hasattr(tanh, \"gradInput\"), \"Нет параметра gradInput в реализованном классе\"\n",
    "assert hasattr(tanh, \"X\"), \"Не сохранили X в реализованном классе\"\n",
    "\n",
    "\n",
    "dout = np.random.random(size=(100, 3))\n",
    "dInput, _ = tanh.backward(dout)\n",
    "correct_dInput = np.array([[0.7301867 , 0.66854527, 0.68068037],\n",
    "                           [0.66024164, 0.27247731, 0.23991181],\n",
    "                           [0.65163784, 0.44479135, 0.85566899],\n",
    "                           [0.77667226, 0.08164937, 0.21606773],\n",
    "                           [0.01811832, 0.07567937, 0.11508041]])\n",
    "assert np.isclose(dInput[:5], correct_dInput).all()"
   ]
  },
  {
   "cell_type": "markdown",
   "id": "be2b44f7",
   "metadata": {
    "id": "be2b44f7"
   },
   "source": [
    "# Задача 3. Реализовать функцию потерь MSE"
   ]
  },
  {
   "cell_type": "markdown",
   "id": "2d15d7c2",
   "metadata": {
    "id": "2d15d7c2"
   },
   "source": [
    "В качестве интерактива-микрозадания, поищите формулу MSE в гугле 😊"
   ]
  },
  {
   "cell_type": "code",
   "execution_count": 6,
   "id": "919014f4",
   "metadata": {
    "id": "919014f4"
   },
   "outputs": [],
   "source": [
    "class MSELoss():\n",
    "    def forward(self, y_true, y_pred):\n",
    "        m = len(y_true)\n",
    "        loss = (1 / m) * (np.sum((y_true-y_pred)**2))\n",
    "        return loss\n",
    "    \n",
    "    def backward(self, y_true, y_pred):\n",
    "        return (2 / len(y_true)) * (y_pred - y_true)"
   ]
  },
  {
   "cell_type": "code",
   "execution_count": 7,
   "id": "f14b8a55",
   "metadata": {
    "id": "f14b8a55"
   },
   "outputs": [],
   "source": [
    "np.random.seed(17)\n",
    "\n",
    "y_true = np.random.randint(0, 1000, size=(100))\n",
    "y_pred = np.random.randint(0, 1000, size=(100))\n",
    "mse = MSELoss()\n",
    "output = mse.forward(y_true, y_pred)\n",
    "correct_answer = 157953.51\n",
    "assert round(output) == round(correct_answer)\n",
    "\n",
    "dout = mse.backward(y_true, y_pred)\n",
    "right_dout = np.array([3.56, 1.24, 10.2, 7.68, 3.02, 9.04, -12.84, -2.16, 3.04, 0.24])\n",
    "assert np.isclose(dout[:10], right_dout).all()\n",
    "assert round(dout.sum(), 3) == 19.26"
   ]
  },
  {
   "cell_type": "markdown",
   "id": "237d40c5",
   "metadata": {
    "id": "237d40c5"
   },
   "source": [
    "# Задача 4. Реализовать каркас нейросети"
   ]
  },
  {
   "cell_type": "code",
   "execution_count": 8,
   "id": "db70586b",
   "metadata": {
    "id": "db70586b"
   },
   "outputs": [],
   "source": [
    "class LinearLayer:\n",
    "    \"\"\"\n",
    "    Линейный слой с семинаров, ничего менять не надо\n",
    "    \"\"\"\n",
    "    def __init__(self, in_size, out_size):\n",
    "        self.W = np.random.randn(in_size, out_size)\n",
    "        self.params = [self.W]\n",
    "        self.gradW = None\n",
    "        self.gradInput = None\n",
    "        \n",
    "    def forward(self, X):\n",
    "        self.X = X.copy()\n",
    "        output = X.dot(self.W)\n",
    "        return output\n",
    "    \n",
    "    def backward(self, dout):\n",
    "        self.gradW = self.X.T.dot(dout)\n",
    "        self.gradInput = dout.dot(self.W.T)\n",
    "        return self.gradInput, [self.gradW]\n",
    "\n",
    "\n",
    "class NN:\n",
    "    def __init__(self, loss_func):\n",
    "        self.layers = []\n",
    "        self.params = []\n",
    "        self.grads = []\n",
    "        self.loss_func = loss_func\n",
    "\n",
    "    def add_layer(self, layer):\n",
    "        self.layers.append(layer)\n",
    "        self.params.append(layer.params)\n",
    "\n",
    "    def forward(self, X):\n",
    "        self.X = X.copy()\n",
    "        for layer in self.layers:\n",
    "            self.X = layer.forward(self.X).copy()\n",
    "\n",
    "        return self.X\n",
    "    \n",
    "    def backward(self, dout):\n",
    "        self.clear_grad_param()\n",
    "        for layer in reversed(self.layers):\n",
    "            dout, grad = layer.backward(dout)\n",
    "            self.grads.append(grad)\n",
    "        return self.grads\n",
    "\n",
    "    def train_step(self, X, y):\n",
    "        out = self.forward(X)\n",
    "        loss = self.loss_func.forward(y, out)\n",
    "        grads = self.backward(self.loss_func.backward(y, out))\n",
    "        return loss, grads\n",
    "\n",
    "    def predict(self, X):\n",
    "        return self.forward(X)\n",
    "    \n",
    "    def dispGradParam():\n",
    "        print(self.grads)\n",
    "    \n",
    "    def clear_grad_param(self):\n",
    "        self.grads = []\n",
    "    \n",
    "    \n",
    "nn = NN(MSELoss())\n",
    "\n",
    "assert hasattr(nn, \"layers\")\n",
    "assert hasattr(nn, \"params\")\n",
    "assert hasattr(nn, \"grads\")\n",
    "assert hasattr(nn, \"loss_func\")\n",
    "assert isinstance(nn.loss_func, MSELoss)"
   ]
  },
  {
   "cell_type": "code",
   "execution_count": 9,
   "id": "f21c8a0f",
   "metadata": {
    "id": "f21c8a0f"
   },
   "outputs": [],
   "source": [
    "np.random.seed(17)\n",
    "\n",
    "X = np.random.random(size=(100, 3))\n",
    "nn = NN(MSELoss())\n",
    "\n",
    "linear1 = LinearLayer(3, 5)\n",
    "nn.add_layer(linear1)\n",
    "\n",
    "sigmoid1 = SigmoidLayer()\n",
    "nn.add_layer(sigmoid1)\n",
    "\n",
    "linear2 = LinearLayer(5, 1)\n",
    "nn.add_layer(linear2)\n",
    "\n",
    "sigmoid2 = SigmoidLayer()\n",
    "nn.add_layer(sigmoid2)\n",
    "\n",
    "output_nn = nn.forward(X)\n",
    "\n",
    "assert round(output_nn.sum()) == 65\n",
    "\n",
    "\n",
    "y = np.random.randint(0, 2, size=100).reshape(-1, 1)\n",
    "\n",
    "nn_predict = nn.predict(X)\n",
    "assert (output_nn == nn.predict(X)).all()\n",
    "\n",
    "loss, grads = nn.train_step(X, y)\n",
    "right_loss = np.array([0.24705916])\n",
    "\n",
    "assert np.isclose(loss, right_loss)\n",
    "assert grads[0] == []\n",
    "assert round(grads[1][0].sum(), 4) == 0.0394\n",
    "assert grads[2] == []\n",
    "assert round(grads[3][0].sum(), 4) == 0.0077"
   ]
  },
  {
   "cell_type": "markdown",
   "id": "fb0f7edb",
   "metadata": {
    "id": "fb0f7edb"
   },
   "source": [
    "# Задача 4.1. Реализовать нарезку датасета на минибатчи"
   ]
  },
  {
   "cell_type": "markdown",
   "id": "49e3692c",
   "metadata": {
    "id": "49e3692c"
   },
   "source": [
    "Минибатч -- это кусочек данных определенного размера, который мы можем варьировать сами  \n",
    "Например, если в датасете 1000 записей, а мы хотим поставить размер батча в 50 наблюдений, то мы получим 20 батчей с 50 наблюдениями в каждом"
   ]
  },
  {
   "cell_type": "code",
   "execution_count": 10,
   "id": "5a803c64",
   "metadata": {
    "id": "5a803c64"
   },
   "outputs": [],
   "source": [
    "def minibatch(X, y, minibatch_size):\n",
    "    batches = []\n",
    "    for i in range(0, len(X), minibatch_size):\n",
    "      batches.append((X[i : i + minibatch_size], y[i : i + minibatch_size]))\n",
    "    return batches"
   ]
  },
  {
   "cell_type": "code",
   "execution_count": 11,
   "id": "29d0e2dc",
   "metadata": {
    "id": "29d0e2dc"
   },
   "outputs": [],
   "source": [
    "np.random.seed(17)\n",
    "\n",
    "BATCH_SIZE = 33\n",
    "X = np.random.random(size=(100, 3))\n",
    "y = np.random.randint(0, 2, size=100).reshape(-1, 1)\n",
    "\n",
    "minibatches = minibatch(X, y, BATCH_SIZE)\n",
    "X_batch0, y_batch0 = minibatches[0]\n",
    "correct_y_batch0 = np.array([[0], [0], [0], [1], [1]])\n",
    "assert len(minibatches) == 4\n",
    "assert round(X_batch0.sum(), 3) == 50.216\n",
    "assert (y_batch0[:5] == correct_y_batch0).all()"
   ]
  },
  {
   "cell_type": "code",
   "execution_count": 12,
   "id": "4f86a514",
   "metadata": {
    "id": "4f86a514"
   },
   "outputs": [],
   "source": [
    "def update(velocity, params, grads, learning_rate=0.001, mu=0.9):\n",
    "    \"\"\"\n",
    "    Обратите внимание на эту функцию\n",
    "    Здесь происходит чуть хитрое обновление весов\n",
    "    На семинаре поговорим об этом\n",
    "    \"\"\"\n",
    "    for v, p, g, in zip(velocity, params, reversed(grads)):\n",
    "        for i in range(len(g)):\n",
    "            v[i] = mu * v[i] + learning_rate * g[i]\n",
    "            p[i] -= v[i]\n",
    "            \n",
    "\n",
    "def plot_train_process(train_acc_list, val_acc_list, \n",
    "                       mean_train_loss_list, mean_val_loss_list):\n",
    "    fig, axes = plt.subplots(1, 2, figsize=(15, 5))\n",
    "\n",
    "    axes[0].set_title('Mean absolute error')\n",
    "    axes[1].set_title('Loss')\n",
    "    \n",
    "    axes[0].plot(train_acc_list, label='train')\n",
    "    axes[0].plot(val_acc_list, label='test')\n",
    "    axes[0].legend()\n",
    "    \n",
    "    axes[1].plot(mean_train_loss_list, label='train')\n",
    "    axes[1].plot(mean_val_loss_list, label='test')\n",
    "    axes[1].legend()\n",
    "    \n",
    "    plt.show()\n",
    "    \n",
    "    \n",
    "def check_accuracy(y_true, y_pred):\n",
    "    return np.mean(abs(y_true - y_pred))\n",
    "\n",
    "\n",
    "def train(net, X_train, y_train, minibatch_size, epoch, learning_rate, mu=0.9,\n",
    "                 verbose=True, X_val=None, y_val=None, nesterov=True, draw_each_iters=5):\n",
    "    val_loss_epoch = []\n",
    "    minibatches = minibatch(X_train, y_train, minibatch_size)\n",
    "    minibatches_val = minibatch(X_val, y_val, minibatch_size)\n",
    "\n",
    "    c = 0 \n",
    "\n",
    "    mean_train_loss_list = []\n",
    "    mean_val_loss_list = []\n",
    "    train_acc_list = []\n",
    "    val_acc_list = []\n",
    "    for n_iter in range(epoch):\n",
    "        loss_batch = []\n",
    "        val_loss_batch = []\n",
    "        velocity = []\n",
    "        for param_layer in net.params:\n",
    "            p = [np.zeros_like(param) for param in list(param_layer)]\n",
    "            velocity.append(p)\n",
    "\n",
    "        # iterate over mini batches\n",
    "        for X_mini, y_mini in minibatches:\n",
    "\n",
    "            loss, grads = net.train_step(X_mini, y_mini)\n",
    "            loss_batch.append(loss)\n",
    "            update(velocity, net.params, grads,\n",
    "                   learning_rate=learning_rate, mu=mu)\n",
    "\n",
    "        for X_mini_val, y_mini_val in minibatches_val:\n",
    "            val_loss, _ = net.train_step(X_mini, y_mini)\n",
    "            val_loss_batch.append(val_loss)\n",
    "\n",
    "\n",
    "        # accuracy of model at end of epoch after all mini batch updates   \n",
    "\n",
    "        if verbose:\n",
    "            m_train = X_train.shape[0]\n",
    "            m_val = X_val.shape[0]\n",
    "            y_train_pred = np.array([], dtype=\"int64\")\n",
    "            y_val_pred = np.array([], dtype=\"int64\")\n",
    "\n",
    "            for i in range(0, m_train, minibatch_size):\n",
    "                X_tr = X_train[i:i + minibatch_size, : ]\n",
    "                y_tr = y_train[i:i + minibatch_size, ]\n",
    "                y_train_pred = np.append(y_train_pred, net.predict(X_tr))\n",
    "\n",
    "            for i in range(0, m_val, minibatch_size):\n",
    "                X_va = X_val[i:i + minibatch_size, : ]\n",
    "                y_va = y_val[i:i + minibatch_size, ]\n",
    "                y_val_pred = np.append(y_val_pred, net.predict(X_va))\n",
    "        \n",
    "            train_acc = check_accuracy(y_train, y_train_pred)\n",
    "            val_acc = check_accuracy(y_val, y_val_pred)\n",
    "            mean_train_loss = sum(loss_batch) / float(len(loss_batch))\n",
    "            mean_val_loss = sum(val_loss_batch) / float(len(val_loss_batch))\n",
    "            \n",
    "            train_acc_list.append(train_acc)\n",
    "            val_acc_list.append(val_acc)\n",
    "            \n",
    "            mean_train_loss_list.append(mean_train_loss)\n",
    "            mean_val_loss_list.append(mean_val_loss)\n",
    "\n",
    "            # early stopping with patience = 5 on val loss\n",
    "            if len(val_loss_epoch) == 0:\n",
    "                val_loss_epoch.append(mean_val_loss)\n",
    "            else:\n",
    "                for j in val_loss_epoch[-5:]:\n",
    "                    if mean_val_loss > j:\n",
    "                        c += 1\n",
    "                    else:\n",
    "                        c = 0\n",
    "                if c > 5:\n",
    "                    print('Early stopping')\n",
    "                    return net\n",
    "                else:\n",
    "                    c = 0\n",
    "                    val_loss_epoch.append(mean_val_loss)  \n",
    "                    \n",
    "            if n_iter % draw_each_iters == 0:\n",
    "                clear_output(True)\n",
    "                plot_train_process(train_acc_list, val_acc_list, \n",
    "                                   mean_train_loss_list, mean_val_loss_list)\n",
    "    return net"
   ]
  },
  {
   "cell_type": "markdown",
   "id": "8f3e827d",
   "metadata": {
    "id": "8f3e827d"
   },
   "source": [
    "# Пробуем обучить нейросеть на игрушечных данных"
   ]
  },
  {
   "cell_type": "code",
   "execution_count": 13,
   "id": "7e8d0e44",
   "metadata": {
    "colab": {
     "base_uri": "https://localhost:8080/"
    },
    "id": "7e8d0e44",
    "outputId": "98bbc868-ccd3-49d9-d6a1-84e03f72b098"
   },
   "outputs": [
    {
     "name": "stdout",
     "output_type": "stream",
     "text": [
      "X train:\n",
      "[[0.     0.0001 0.0002 0.0003]\n",
      " [0.0004 0.0005 0.0006 0.0007]\n",
      " [0.0008 0.0009 0.001  0.0011]\n",
      " [0.0012 0.0013 0.0014 0.0015]\n",
      " [0.0016 0.0017 0.0018 0.0019]]\n",
      "y train:\n",
      "[[0.0006]\n",
      " [0.0022]\n",
      " [0.0038]\n",
      " [0.0054]\n",
      " [0.007 ]]\n",
      "\n",
      "X test:\n",
      "[[0.1    0.1001 0.1002 0.1003]\n",
      " [0.1004 0.1005 0.1006 0.1007]\n",
      " [0.1008 0.1009 0.101  0.1011]\n",
      " [0.1012 0.1013 0.1014 0.1015]\n",
      " [0.1016 0.1017 0.1018 0.1019]]\n",
      "y test:\n",
      "[[0.4006]\n",
      " [0.4022]\n",
      " [0.4038]\n",
      " [0.4054]\n",
      " [0.407 ]]\n"
     ]
    }
   ],
   "source": [
    "# Get preprocessed training and validation data\n",
    "\n",
    "X_train = np.arange(1000).reshape(250, 4) / 1e4\n",
    "y_train = X_train.sum(axis=1).reshape(-1, 1)\n",
    "\n",
    "X_test = np.arange(1000, 2000).reshape(250, 4) / 1e4\n",
    "y_test = X_test.sum(axis=1).reshape(-1, 1) \n",
    "\n",
    "print(\"X train:\")\n",
    "print(X_train[:5])\n",
    "print(\"y train:\")\n",
    "print(y_train[:5])\n",
    "print()\n",
    "print(\"X test:\")\n",
    "print(X_test[:5])\n",
    "print(\"y test:\")\n",
    "print(y_test[:5])"
   ]
  },
  {
   "cell_type": "markdown",
   "id": "03661811",
   "metadata": {
    "id": "03661811"
   },
   "source": [
    "Для наглядности визуализируем обучающую и тестовую выборки"
   ]
  },
  {
   "cell_type": "code",
   "execution_count": 14,
   "id": "d5901688",
   "metadata": {
    "colab": {
     "base_uri": "https://localhost:8080/",
     "height": 430
    },
    "id": "d5901688",
    "outputId": "e47dfd1d-aa47-44b1-8c96-f5d1195adb05"
   },
   "outputs": [
    {
     "data": {
      "image/png": "[encoded data removed]",
      "text/plain": [
       "<Figure size 640x480 with 1 Axes>"
      ]
     },
     "metadata": {},
     "output_type": "display_data"
    }
   ],
   "source": [
    "plot_each = 15\n",
    "\n",
    "plt.scatter(X_train[::plot_each, 0], y_train[::plot_each], label='train')\n",
    "plt.scatter(X_test[::plot_each, 0], y_test[::plot_each], label='test')\n",
    "plt.legend();"
   ]
  },
  {
   "cell_type": "code",
   "execution_count": 15,
   "id": "c601f0a4",
   "metadata": {
    "colab": {
     "base_uri": "https://localhost:8080/",
     "height": 468
    },
    "id": "c601f0a4",
    "outputId": "7f20ded2-aadb-41f3-8f77-1e307760b902"
   },
   "outputs": [
    {
     "data": {
      "image/png": "[encoded data removed]",
      "text/plain": [
       "<Figure size 1500x500 with 2 Axes>"
      ]
     },
     "metadata": {},
     "output_type": "display_data"
    }
   ],
   "source": [
    "# define neural net\n",
    "model = NN(MSELoss())\n",
    "\n",
    "# add some layers\n",
    "model.add_layer(LinearLayer(4, 1))\n",
    "\n",
    "model = train(model, X_train, y_train, minibatch_size=10, epoch=100,\n",
    "           learning_rate=0.01, X_val=X_train, y_val=y_train, verbose=True)"
   ]
  },
  {
   "cell_type": "markdown",
   "id": "e6cd30fd",
   "metadata": {
    "id": "e6cd30fd"
   },
   "source": [
    "Если все получилось (лосс падает, ошибка падает), то микро-ура  \n",
    "Теперь самое время начать работать с реальными данными"
   ]
  },
  {
   "cell_type": "markdown",
   "id": "61908db6",
   "metadata": {
    "id": "61908db6"
   },
   "source": [
    "# Задача 5. Обучить нейросеть на реальных данных"
   ]
  },
  {
   "cell_type": "code",
   "execution_count": 30,
   "id": "0b282565",
   "metadata": {
    "id": "0b282565"
   },
   "outputs": [],
   "source": [
    "import pandas as pd\n",
    "\n",
    "\n",
    "DATA_URL = \"https://raw.githubusercontent.com/stedy/Machine-Learning-with-R-datasets/master/insurance.csv\"\n",
    "data = pd.read_csv(DATA_URL)"
   ]
  },
  {
   "cell_type": "markdown",
   "id": "25ac9eaf",
   "metadata": {
    "id": "25ac9eaf"
   },
   "source": [
    "Постановки задачи следующая -- необходимо предсказать размер страховки для человека на основании собранных данных:\n",
    "- возраст (age)\n",
    "- пол (sex)\n",
    "- индекс массы тела (bmi)\n",
    "- количество детей (children)\n",
    "- курильщик или нет (smoker)\n",
    "- регион человека (region)  \n",
    "----\n",
    "Целевая переменная представлена в столбце `charges`"
   ]
  },
  {
   "cell_type": "markdown",
   "id": "cb5d8799",
   "metadata": {
    "id": "cb5d8799"
   },
   "source": [
    "Смотрим на данные глазами"
   ]
  },
  {
   "cell_type": "code",
   "execution_count": 31,
   "id": "f0799b72",
   "metadata": {
    "colab": {
     "base_uri": "https://localhost:8080/",
     "height": 206
    },
    "id": "f0799b72",
    "outputId": "ff374aed-3ef3-4271-f4dc-eb3ec6a40550"
   },
   "outputs": [
    {
     "data": {
      "text/html": [
       "\n",
       "  <div id=\"df-7afc057b-4755-4e91-bfb8-e1d34e8dd8b7\">\n",
       "    <div class=\"colab-df-container\">\n",
       "      <div>\n",
       "<style scoped>\n",
       "    .dataframe tbody tr th:only-of-type {\n",
       "        vertical-align: middle;\n",
       "    }\n",
       "\n",
       "    .dataframe tbody tr th {\n",
       "        vertical-align: top;\n",
       "    }\n",
       "\n",
       "    .dataframe thead th {\n",
       "        text-align: right;\n",
       "    }\n",
       "</style>\n",
       "<table border=\"1\" class=\"dataframe\">\n",
       "  <thead>\n",
       "    <tr style=\"text-align: right;\">\n",
       "      <th></th>\n",
       "      <th>age</th>\n",
       "      <th>sex</th>\n",
       "      <th>bmi</th>\n",
       "      <th>children</th>\n",
       "      <th>smoker</th>\n",
       "      <th>region</th>\n",
       "      <th>charges</th>\n",
       "    </tr>\n",
       "  </thead>\n",
       "  <tbody>\n",
       "    <tr>\n",
       "      <th>0</th>\n",
       "      <td>19</td>\n",
       "      <td>female</td>\n",
       "      <td>27.900</td>\n",
       "      <td>0</td>\n",
       "      <td>yes</td>\n",
       "      <td>southwest</td>\n",
       "      <td>16884.92400</td>\n",
       "    </tr>\n",
       "    <tr>\n",
       "      <th>1</th>\n",
       "      <td>18</td>\n",
       "      <td>male</td>\n",
       "      <td>33.770</td>\n",
       "      <td>1</td>\n",
       "      <td>no</td>\n",
       "      <td>southeast</td>\n",
       "      <td>1725.55230</td>\n",
       "    </tr>\n",
       "    <tr>\n",
       "      <th>2</th>\n",
       "      <td>28</td>\n",
       "      <td>male</td>\n",
       "      <td>33.000</td>\n",
       "      <td>3</td>\n",
       "      <td>no</td>\n",
       "      <td>southeast</td>\n",
       "      <td>4449.46200</td>\n",
       "    </tr>\n",
       "    <tr>\n",
       "      <th>3</th>\n",
       "      <td>33</td>\n",
       "      <td>male</td>\n",
       "      <td>22.705</td>\n",
       "      <td>0</td>\n",
       "      <td>no</td>\n",
       "      <td>northwest</td>\n",
       "      <td>21984.47061</td>\n",
       "    </tr>\n",
       "    <tr>\n",
       "      <th>4</th>\n",
       "      <td>32</td>\n",
       "      <td>male</td>\n",
       "      <td>28.880</td>\n",
       "      <td>0</td>\n",
       "      <td>no</td>\n",
       "      <td>northwest</td>\n",
       "      <td>3866.85520</td>\n",
       "    </tr>\n",
       "  </tbody>\n",
       "</table>\n",
       "</div>\n",
       "      <button class=\"colab-df-convert\" onclick=\"convertToInteractive('df-7afc057b-4755-4e91-bfb8-e1d34e8dd8b7')\"\n",
       "              title=\"Convert this dataframe to an interactive table.\"\n",
       "              style=\"display:none;\">\n",
       "        \n",
       "  <svg xmlns=\"http://www.w3.org/2000/svg\" height=\"24px\"viewBox=\"0 0 24 24\"\n",
       "       width=\"24px\">\n",
       "    <path d=\"M0 0h24v24H0V0z\" fill=\"none\"/>\n",
       "    <path d=\"M18.56 5.44l.94 2.06.94-2.06 2.06-.94-2.06-.94-.94-2.06-.94 2.06-2.06.94zm-11 1L8.5 8.5l.94-2.06 2.06-.94-2.06-.94L8.5 2.5l-.94 2.06-2.06.94zm10 10l.94 2.06.94-2.06 2.06-.94-2.06-.94-.94-2.06-.94 2.06-2.06.94z\"/><path d=\"M17.41 7.96l-1.37-1.37c-.4-.4-.92-.59-1.43-.59-.52 0-1.04.2-1.43.59L10.3 9.45l-7.72 7.72c-.78.78-.78 2.05 0 2.83L4 21.41c.39.39.9.59 1.41.59.51 0 1.02-.2 1.41-.59l7.78-7.78 2.81-2.81c.8-.78.8-2.07 0-2.86zM5.41 20L4 18.59l7.72-7.72 1.47 1.35L5.41 20z\"/>\n",
       "  </svg>\n",
       "      </button>\n",
       "      \n",
       "  <style>\n",
       "    .colab-df-container {\n",
       "      display:flex;\n",
       "      flex-wrap:wrap;\n",
       "      gap: 12px;\n",
       "    }\n",
       "\n",
       "    .colab-df-convert {\n",
       "      background-color: #E8F0FE;\n",
       "      border: none;\n",
       "      border-radius: 50%;\n",
       "      cursor: pointer;\n",
       "      display: none;\n",
       "      fill: #1967D2;\n",
       "      height: 32px;\n",
       "      padding: 0 0 0 0;\n",
       "      width: 32px;\n",
       "    }\n",
       "\n",
       "    .colab-df-convert:hover {\n",
       "      background-color: #E2EBFA;\n",
       "      box-shadow: 0px 1px 2px rgba(60, 64, 67, 0.3), 0px 1px 3px 1px rgba(60, 64, 67, 0.15);\n",
       "      fill: #174EA6;\n",
       "    }\n",
       "\n",
       "    [theme=dark] .colab-df-convert {\n",
       "      background-color: #3B4455;\n",
       "      fill: #D2E3FC;\n",
       "    }\n",
       "\n",
       "    [theme=dark] .colab-df-convert:hover {\n",
       "      background-color: #434B5C;\n",
       "      box-shadow: 0px 1px 3px 1px rgba(0, 0, 0, 0.15);\n",
       "      filter: drop-shadow(0px 1px 2px rgba(0, 0, 0, 0.3));\n",
       "      fill: #FFFFFF;\n",
       "    }\n",
       "  </style>\n",
       "\n",
       "      <script>\n",
       "        const buttonEl =\n",
       "          document.querySelector('#df-7afc057b-4755-4e91-bfb8-e1d34e8dd8b7 button.colab-df-convert');\n",
       "        buttonEl.style.display =\n",
       "          google.colab.kernel.accessAllowed ? 'block' : 'none';\n",
       "\n",
       "        async function convertToInteractive(key) {\n",
       "          const element = document.querySelector('#df-7afc057b-4755-4e91-bfb8-e1d34e8dd8b7');\n",
       "          const dataTable =\n",
       "            await google.colab.kernel.invokeFunction('convertToInteractive',\n",
       "                                                     [key], {});\n",
       "          if (!dataTable) return;\n",
       "\n",
       "          const docLinkHtml = 'Like what you see? Visit the ' +\n",
       "            '<a target=\"_blank\" href=https://colab.research.google.com/notebooks/data_table.ipynb>data table notebook</a>'\n",
       "            + ' to learn more about interactive tables.';\n",
       "          element.innerHTML = '';\n",
       "          dataTable['output_type'] = 'display_data';\n",
       "          await google.colab.output.renderOutput(dataTable, element);\n",
       "          const docLink = document.createElement('div');\n",
       "          docLink.innerHTML = docLinkHtml;\n",
       "          element.appendChild(docLink);\n",
       "        }\n",
       "      </script>\n",
       "    </div>\n",
       "  </div>\n",
       "  "
      ],
      "text/plain": [
       "   age     sex     bmi  children smoker     region      charges\n",
       "0   19  female  27.900         0    yes  southwest  16884.92400\n",
       "1   18    male  33.770         1     no  southeast   1725.55230\n",
       "2   28    male  33.000         3     no  southeast   4449.46200\n",
       "3   33    male  22.705         0     no  northwest  21984.47061\n",
       "4   32    male  28.880         0     no  northwest   3866.85520"
      ]
     },
     "execution_count": 31,
     "metadata": {},
     "output_type": "execute_result"
    }
   ],
   "source": [
    "data.head()"
   ]
  },
  {
   "cell_type": "markdown",
   "id": "8d918cb9",
   "metadata": {
    "id": "8d918cb9"
   },
   "source": [
    "Закодируем категориальные признаки через One Hot Encoding  \n",
    "![](https://i.imgur.com/mtimFxh.png)  \n",
    "Из каждого уникального значения категориального признака создается новый столбец с его значением  \n",
    "Например, для признака `sex` есть два уникальных значения `{\"female\", \"male\"}`  \n",
    "Мы создадим два новых столбца с названиями `sex_female` и `sex_male`, где будут представлены только 0 или 1, в зависимости от того, какого пола человек в выборке  \n",
    "В библиотеке pandas это можно сделать через метод `pd.get_dummies()`"
   ]
  },
  {
   "cell_type": "code",
   "execution_count": 32,
   "id": "c714d4b9",
   "metadata": {
    "id": "c714d4b9"
   },
   "outputs": [],
   "source": [
    "cat_columns = ['sex', 'smoker', 'region']\n",
    "dummy_data = pd.get_dummies(data[cat_columns])\n",
    "data.drop(cat_columns, axis=1, inplace=True)\n",
    "data = pd.concat([data, dummy_data], axis=1)"
   ]
  },
  {
   "cell_type": "code",
   "execution_count": 33,
   "id": "5bc5b387",
   "metadata": {
    "colab": {
     "base_uri": "https://localhost:8080/",
     "height": 206
    },
    "id": "5bc5b387",
    "outputId": "f830bfbe-60e2-4e36-aa46-c347da589ea6"
   },
   "outputs": [
    {
     "data": {
      "text/html": [
       "\n",
       "  <div id=\"df-6f5d53cc-af63-45af-8a4b-295c1c8f4993\">\n",
       "    <div class=\"colab-df-container\">\n",
       "      <div>\n",
       "<style scoped>\n",
       "    .dataframe tbody tr th:only-of-type {\n",
       "        vertical-align: middle;\n",
       "    }\n",
       "\n",
       "    .dataframe tbody tr th {\n",
       "        vertical-align: top;\n",
       "    }\n",
       "\n",
       "    .dataframe thead th {\n",
       "        text-align: right;\n",
       "    }\n",
       "</style>\n",
       "<table border=\"1\" class=\"dataframe\">\n",
       "  <thead>\n",
       "    <tr style=\"text-align: right;\">\n",
       "      <th></th>\n",
       "      <th>age</th>\n",
       "      <th>bmi</th>\n",
       "      <th>children</th>\n",
       "      <th>charges</th>\n",
       "      <th>sex_female</th>\n",
       "      <th>sex_male</th>\n",
       "      <th>smoker_no</th>\n",
       "      <th>smoker_yes</th>\n",
       "      <th>region_northeast</th>\n",
       "      <th>region_northwest</th>\n",
       "      <th>region_southeast</th>\n",
       "      <th>region_southwest</th>\n",
       "    </tr>\n",
       "  </thead>\n",
       "  <tbody>\n",
       "    <tr>\n",
       "      <th>0</th>\n",
       "      <td>19</td>\n",
       "      <td>27.900</td>\n",
       "      <td>0</td>\n",
       "      <td>16884.92400</td>\n",
       "      <td>1</td>\n",
       "      <td>0</td>\n",
       "      <td>0</td>\n",
       "      <td>1</td>\n",
       "      <td>0</td>\n",
       "      <td>0</td>\n",
       "      <td>0</td>\n",
       "      <td>1</td>\n",
       "    </tr>\n",
       "    <tr>\n",
       "      <th>1</th>\n",
       "      <td>18</td>\n",
       "      <td>33.770</td>\n",
       "      <td>1</td>\n",
       "      <td>1725.55230</td>\n",
       "      <td>0</td>\n",
       "      <td>1</td>\n",
       "      <td>1</td>\n",
       "      <td>0</td>\n",
       "      <td>0</td>\n",
       "      <td>0</td>\n",
       "      <td>1</td>\n",
       "      <td>0</td>\n",
       "    </tr>\n",
       "    <tr>\n",
       "      <th>2</th>\n",
       "      <td>28</td>\n",
       "      <td>33.000</td>\n",
       "      <td>3</td>\n",
       "      <td>4449.46200</td>\n",
       "      <td>0</td>\n",
       "      <td>1</td>\n",
       "      <td>1</td>\n",
       "      <td>0</td>\n",
       "      <td>0</td>\n",
       "      <td>0</td>\n",
       "      <td>1</td>\n",
       "      <td>0</td>\n",
       "    </tr>\n",
       "    <tr>\n",
       "      <th>3</th>\n",
       "      <td>33</td>\n",
       "      <td>22.705</td>\n",
       "      <td>0</td>\n",
       "      <td>21984.47061</td>\n",
       "      <td>0</td>\n",
       "      <td>1</td>\n",
       "      <td>1</td>\n",
       "      <td>0</td>\n",
       "      <td>0</td>\n",
       "      <td>1</td>\n",
       "      <td>0</td>\n",
       "      <td>0</td>\n",
       "    </tr>\n",
       "    <tr>\n",
       "      <th>4</th>\n",
       "      <td>32</td>\n",
       "      <td>28.880</td>\n",
       "      <td>0</td>\n",
       "      <td>3866.85520</td>\n",
       "      <td>0</td>\n",
       "      <td>1</td>\n",
       "      <td>1</td>\n",
       "      <td>0</td>\n",
       "      <td>0</td>\n",
       "      <td>1</td>\n",
       "      <td>0</td>\n",
       "      <td>0</td>\n",
       "    </tr>\n",
       "  </tbody>\n",
       "</table>\n",
       "</div>\n",
       "      <button class=\"colab-df-convert\" onclick=\"convertToInteractive('df-6f5d53cc-af63-45af-8a4b-295c1c8f4993')\"\n",
       "              title=\"Convert this dataframe to an interactive table.\"\n",
       "              style=\"display:none;\">\n",
       "        \n",
       "  <svg xmlns=\"http://www.w3.org/2000/svg\" height=\"24px\"viewBox=\"0 0 24 24\"\n",
       "       width=\"24px\">\n",
       "    <path d=\"M0 0h24v24H0V0z\" fill=\"none\"/>\n",
       "    <path d=\"M18.56 5.44l.94 2.06.94-2.06 2.06-.94-2.06-.94-.94-2.06-.94 2.06-2.06.94zm-11 1L8.5 8.5l.94-2.06 2.06-.94-2.06-.94L8.5 2.5l-.94 2.06-2.06.94zm10 10l.94 2.06.94-2.06 2.06-.94-2.06-.94-.94-2.06-.94 2.06-2.06.94z\"/><path d=\"M17.41 7.96l-1.37-1.37c-.4-.4-.92-.59-1.43-.59-.52 0-1.04.2-1.43.59L10.3 9.45l-7.72 7.72c-.78.78-.78 2.05 0 2.83L4 21.41c.39.39.9.59 1.41.59.51 0 1.02-.2 1.41-.59l7.78-7.78 2.81-2.81c.8-.78.8-2.07 0-2.86zM5.41 20L4 18.59l7.72-7.72 1.47 1.35L5.41 20z\"/>\n",
       "  </svg>\n",
       "      </button>\n",
       "      \n",
       "  <style>\n",
       "    .colab-df-container {\n",
       "      display:flex;\n",
       "      flex-wrap:wrap;\n",
       "      gap: 12px;\n",
       "    }\n",
       "\n",
       "    .colab-df-convert {\n",
       "      background-color: #E8F0FE;\n",
       "      border: none;\n",
       "      border-radius: 50%;\n",
       "      cursor: pointer;\n",
       "      display: none;\n",
       "      fill: #1967D2;\n",
       "      height: 32px;\n",
       "      padding: 0 0 0 0;\n",
       "      width: 32px;\n",
       "    }\n",
       "\n",
       "    .colab-df-convert:hover {\n",
       "      background-color: #E2EBFA;\n",
       "      box-shadow: 0px 1px 2px rgba(60, 64, 67, 0.3), 0px 1px 3px 1px rgba(60, 64, 67, 0.15);\n",
       "      fill: #174EA6;\n",
       "    }\n",
       "\n",
       "    [theme=dark] .colab-df-convert {\n",
       "      background-color: #3B4455;\n",
       "      fill: #D2E3FC;\n",
       "    }\n",
       "\n",
       "    [theme=dark] .colab-df-convert:hover {\n",
       "      background-color: #434B5C;\n",
       "      box-shadow: 0px 1px 3px 1px rgba(0, 0, 0, 0.15);\n",
       "      filter: drop-shadow(0px 1px 2px rgba(0, 0, 0, 0.3));\n",
       "      fill: #FFFFFF;\n",
       "    }\n",
       "  </style>\n",
       "\n",
       "      <script>\n",
       "        const buttonEl =\n",
       "          document.querySelector('#df-6f5d53cc-af63-45af-8a4b-295c1c8f4993 button.colab-df-convert');\n",
       "        buttonEl.style.display =\n",
       "          google.colab.kernel.accessAllowed ? 'block' : 'none';\n",
       "\n",
       "        async function convertToInteractive(key) {\n",
       "          const element = document.querySelector('#df-6f5d53cc-af63-45af-8a4b-295c1c8f4993');\n",
       "          const dataTable =\n",
       "            await google.colab.kernel.invokeFunction('convertToInteractive',\n",
       "                                                     [key], {});\n",
       "          if (!dataTable) return;\n",
       "\n",
       "          const docLinkHtml = 'Like what you see? Visit the ' +\n",
       "            '<a target=\"_blank\" href=https://colab.research.google.com/notebooks/data_table.ipynb>data table notebook</a>'\n",
       "            + ' to learn more about interactive tables.';\n",
       "          element.innerHTML = '';\n",
       "          dataTable['output_type'] = 'display_data';\n",
       "          await google.colab.output.renderOutput(dataTable, element);\n",
       "          const docLink = document.createElement('div');\n",
       "          docLink.innerHTML = docLinkHtml;\n",
       "          element.appendChild(docLink);\n",
       "        }\n",
       "      </script>\n",
       "    </div>\n",
       "  </div>\n",
       "  "
      ],
      "text/plain": [
       "   age     bmi  children      charges  sex_female  sex_male  smoker_no  \\\n",
       "0   19  27.900         0  16884.92400           1         0          0   \n",
       "1   18  33.770         1   1725.55230           0         1          1   \n",
       "2   28  33.000         3   4449.46200           0         1          1   \n",
       "3   33  22.705         0  21984.47061           0         1          1   \n",
       "4   32  28.880         0   3866.85520           0         1          1   \n",
       "\n",
       "   smoker_yes  region_northeast  region_northwest  region_southeast  \\\n",
       "0           1                 0                 0                 0   \n",
       "1           0                 0                 0                 1   \n",
       "2           0                 0                 0                 1   \n",
       "3           0                 0                 1                 0   \n",
       "4           0                 0                 1                 0   \n",
       "\n",
       "   region_southwest  \n",
       "0                 1  \n",
       "1                 0  \n",
       "2                 0  \n",
       "3                 0  \n",
       "4                 0  "
      ]
     },
     "execution_count": 33,
     "metadata": {},
     "output_type": "execute_result"
    }
   ],
   "source": [
    "data.head()"
   ]
  },
  {
   "cell_type": "markdown",
   "id": "dfefd2e7",
   "metadata": {
    "id": "dfefd2e7"
   },
   "source": [
    "Посмотрим на распределение целевой переменной"
   ]
  },
  {
   "cell_type": "code",
   "execution_count": 34,
   "id": "c02312a5",
   "metadata": {
    "colab": {
     "base_uri": "https://localhost:8080/",
     "height": 430
    },
    "id": "c02312a5",
    "outputId": "40349d4d-14fb-46d8-a2ee-9518497f2e46"
   },
   "outputs": [
    {
     "data": {
      "image/png": "[encoded data removed]",
      "text/plain": [
       "<Figure size 640x480 with 1 Axes>"
      ]
     },
     "metadata": {},
     "output_type": "display_data"
    }
   ],
   "source": [
    "data['charges'].hist();"
   ]
  },
  {
   "cell_type": "markdown",
   "id": "c02afa07",
   "metadata": {
    "id": "c02afa07"
   },
   "source": [
    "Есть очень большие значения целевой переменной, которые будут вызывать большой градиент  \n",
    "Поэтому давайте будем предсказывать не прямое значение, а логарифм"
   ]
  },
  {
   "cell_type": "code",
   "execution_count": 35,
   "id": "eac94d68",
   "metadata": {
    "id": "eac94d68"
   },
   "outputs": [],
   "source": [
    "data['charges_log'] = np.log(data['charges'])"
   ]
  },
  {
   "cell_type": "code",
   "execution_count": 36,
   "id": "a12ad227",
   "metadata": {
    "colab": {
     "base_uri": "https://localhost:8080/",
     "height": 430
    },
    "id": "a12ad227",
    "outputId": "35dd2a27-b615-4009-ac79-74c9e1a22efe"
   },
   "outputs": [
    {
     "data": {
      "image/png": "[encoded data removed]",
      "text/plain": [
       "<Figure size 640x480 with 1 Axes>"
      ]
     },
     "metadata": {},
     "output_type": "display_data"
    }
   ],
   "source": [
    "data['charges_log'].hist();"
   ]
  },
  {
   "cell_type": "markdown",
   "id": "5490a6bf",
   "metadata": {
    "id": "5490a6bf"
   },
   "source": [
    "Удалим целевую переременную в сыром виде"
   ]
  },
  {
   "cell_type": "code",
   "execution_count": 37,
   "id": "0902ee08",
   "metadata": {
    "id": "0902ee08"
   },
   "outputs": [],
   "source": [
    "data.drop(['charges'], axis=1, inplace=True)"
   ]
  },
  {
   "cell_type": "markdown",
   "id": "c7555ddf",
   "metadata": {
    "id": "c7555ddf"
   },
   "source": [
    "Нейросети плохо работают с числовыми признаками в сыром виде, поэтому хорошо будет их отшаклировать тоже"
   ]
  },
  {
   "cell_type": "code",
   "execution_count": 38,
   "id": "d2f4c2b0",
   "metadata": {
    "id": "d2f4c2b0"
   },
   "outputs": [],
   "source": [
    "def standart_scale_feature(feature_array):\n",
    "    mean = np.mean(feature_array)\n",
    "    std = np.std(feature_array)\n",
    "    output = (feature_array - mean) / std\n",
    "    return output"
   ]
  },
  {
   "cell_type": "code",
   "execution_count": 39,
   "id": "822055b0",
   "metadata": {
    "id": "822055b0"
   },
   "outputs": [],
   "source": [
    "num_features = [\"age\", \"bmi\", \"children\"]\n",
    "for feature in num_features:\n",
    "    data[feature] = standart_scale_feature(data[feature])"
   ]
  },
  {
   "cell_type": "code",
   "execution_count": 40,
   "id": "fbfeee2a",
   "metadata": {
    "colab": {
     "base_uri": "https://localhost:8080/",
     "height": 206
    },
    "id": "fbfeee2a",
    "outputId": "254ae33c-074f-4fa3-d76c-59266d9b6775"
   },
   "outputs": [
    {
     "data": {
      "text/html": [
       "\n",
       "  <div id=\"df-1bd9b3a9-4f5a-4640-92bb-31876f7ef78b\">\n",
       "    <div class=\"colab-df-container\">\n",
       "      <div>\n",
       "<style scoped>\n",
       "    .dataframe tbody tr th:only-of-type {\n",
       "        vertical-align: middle;\n",
       "    }\n",
       "\n",
       "    .dataframe tbody tr th {\n",
       "        vertical-align: top;\n",
       "    }\n",
       "\n",
       "    .dataframe thead th {\n",
       "        text-align: right;\n",
       "    }\n",
       "</style>\n",
       "<table border=\"1\" class=\"dataframe\">\n",
       "  <thead>\n",
       "    <tr style=\"text-align: right;\">\n",
       "      <th></th>\n",
       "      <th>age</th>\n",
       "      <th>bmi</th>\n",
       "      <th>children</th>\n",
       "      <th>sex_female</th>\n",
       "      <th>sex_male</th>\n",
       "      <th>smoker_no</th>\n",
       "      <th>smoker_yes</th>\n",
       "      <th>region_northeast</th>\n",
       "      <th>region_northwest</th>\n",
       "      <th>region_southeast</th>\n",
       "      <th>region_southwest</th>\n",
       "      <th>charges_log</th>\n",
       "    </tr>\n",
       "  </thead>\n",
       "  <tbody>\n",
       "    <tr>\n",
       "      <th>0</th>\n",
       "      <td>-1.438764</td>\n",
       "      <td>-0.453320</td>\n",
       "      <td>-0.908614</td>\n",
       "      <td>1</td>\n",
       "      <td>0</td>\n",
       "      <td>0</td>\n",
       "      <td>1</td>\n",
       "      <td>0</td>\n",
       "      <td>0</td>\n",
       "      <td>0</td>\n",
       "      <td>1</td>\n",
       "      <td>9.734176</td>\n",
       "    </tr>\n",
       "    <tr>\n",
       "      <th>1</th>\n",
       "      <td>-1.509965</td>\n",
       "      <td>0.509621</td>\n",
       "      <td>-0.078767</td>\n",
       "      <td>0</td>\n",
       "      <td>1</td>\n",
       "      <td>1</td>\n",
       "      <td>0</td>\n",
       "      <td>0</td>\n",
       "      <td>0</td>\n",
       "      <td>1</td>\n",
       "      <td>0</td>\n",
       "      <td>7.453302</td>\n",
       "    </tr>\n",
       "    <tr>\n",
       "      <th>2</th>\n",
       "      <td>-0.797954</td>\n",
       "      <td>0.383307</td>\n",
       "      <td>1.580926</td>\n",
       "      <td>0</td>\n",
       "      <td>1</td>\n",
       "      <td>1</td>\n",
       "      <td>0</td>\n",
       "      <td>0</td>\n",
       "      <td>0</td>\n",
       "      <td>1</td>\n",
       "      <td>0</td>\n",
       "      <td>8.400538</td>\n",
       "    </tr>\n",
       "    <tr>\n",
       "      <th>3</th>\n",
       "      <td>-0.441948</td>\n",
       "      <td>-1.305531</td>\n",
       "      <td>-0.908614</td>\n",
       "      <td>0</td>\n",
       "      <td>1</td>\n",
       "      <td>1</td>\n",
       "      <td>0</td>\n",
       "      <td>0</td>\n",
       "      <td>1</td>\n",
       "      <td>0</td>\n",
       "      <td>0</td>\n",
       "      <td>9.998092</td>\n",
       "    </tr>\n",
       "    <tr>\n",
       "      <th>4</th>\n",
       "      <td>-0.513149</td>\n",
       "      <td>-0.292556</td>\n",
       "      <td>-0.908614</td>\n",
       "      <td>0</td>\n",
       "      <td>1</td>\n",
       "      <td>1</td>\n",
       "      <td>0</td>\n",
       "      <td>0</td>\n",
       "      <td>1</td>\n",
       "      <td>0</td>\n",
       "      <td>0</td>\n",
       "      <td>8.260197</td>\n",
       "    </tr>\n",
       "  </tbody>\n",
       "</table>\n",
       "</div>\n",
       "      <button class=\"colab-df-convert\" onclick=\"convertToInteractive('df-1bd9b3a9-4f5a-4640-92bb-31876f7ef78b')\"\n",
       "              title=\"Convert this dataframe to an interactive table.\"\n",
       "              style=\"display:none;\">\n",
       "        \n",
       "  <svg xmlns=\"http://www.w3.org/2000/svg\" height=\"24px\"viewBox=\"0 0 24 24\"\n",
       "       width=\"24px\">\n",
       "    <path d=\"M0 0h24v24H0V0z\" fill=\"none\"/>\n",
       "    <path d=\"M18.56 5.44l.94 2.06.94-2.06 2.06-.94-2.06-.94-.94-2.06-.94 2.06-2.06.94zm-11 1L8.5 8.5l.94-2.06 2.06-.94-2.06-.94L8.5 2.5l-.94 2.06-2.06.94zm10 10l.94 2.06.94-2.06 2.06-.94-2.06-.94-.94-2.06-.94 2.06-2.06.94z\"/><path d=\"M17.41 7.96l-1.37-1.37c-.4-.4-.92-.59-1.43-.59-.52 0-1.04.2-1.43.59L10.3 9.45l-7.72 7.72c-.78.78-.78 2.05 0 2.83L4 21.41c.39.39.9.59 1.41.59.51 0 1.02-.2 1.41-.59l7.78-7.78 2.81-2.81c.8-.78.8-2.07 0-2.86zM5.41 20L4 18.59l7.72-7.72 1.47 1.35L5.41 20z\"/>\n",
       "  </svg>\n",
       "      </button>\n",
       "      \n",
       "  <style>\n",
       "    .colab-df-container {\n",
       "      display:flex;\n",
       "      flex-wrap:wrap;\n",
       "      gap: 12px;\n",
       "    }\n",
       "\n",
       "    .colab-df-convert {\n",
       "      background-color: #E8F0FE;\n",
       "      border: none;\n",
       "      border-radius: 50%;\n",
       "      cursor: pointer;\n",
       "      display: none;\n",
       "      fill: #1967D2;\n",
       "      height: 32px;\n",
       "      padding: 0 0 0 0;\n",
       "      width: 32px;\n",
       "    }\n",
       "\n",
       "    .colab-df-convert:hover {\n",
       "      background-color: #E2EBFA;\n",
       "      box-shadow: 0px 1px 2px rgba(60, 64, 67, 0.3), 0px 1px 3px 1px rgba(60, 64, 67, 0.15);\n",
       "      fill: #174EA6;\n",
       "    }\n",
       "\n",
       "    [theme=dark] .colab-df-convert {\n",
       "      background-color: #3B4455;\n",
       "      fill: #D2E3FC;\n",
       "    }\n",
       "\n",
       "    [theme=dark] .colab-df-convert:hover {\n",
       "      background-color: #434B5C;\n",
       "      box-shadow: 0px 1px 3px 1px rgba(0, 0, 0, 0.15);\n",
       "      filter: drop-shadow(0px 1px 2px rgba(0, 0, 0, 0.3));\n",
       "      fill: #FFFFFF;\n",
       "    }\n",
       "  </style>\n",
       "\n",
       "      <script>\n",
       "        const buttonEl =\n",
       "          document.querySelector('#df-1bd9b3a9-4f5a-4640-92bb-31876f7ef78b button.colab-df-convert');\n",
       "        buttonEl.style.display =\n",
       "          google.colab.kernel.accessAllowed ? 'block' : 'none';\n",
       "\n",
       "        async function convertToInteractive(key) {\n",
       "          const element = document.querySelector('#df-1bd9b3a9-4f5a-4640-92bb-31876f7ef78b');\n",
       "          const dataTable =\n",
       "            await google.colab.kernel.invokeFunction('convertToInteractive',\n",
       "                                                     [key], {});\n",
       "          if (!dataTable) return;\n",
       "\n",
       "          const docLinkHtml = 'Like what you see? Visit the ' +\n",
       "            '<a target=\"_blank\" href=https://colab.research.google.com/notebooks/data_table.ipynb>data table notebook</a>'\n",
       "            + ' to learn more about interactive tables.';\n",
       "          element.innerHTML = '';\n",
       "          dataTable['output_type'] = 'display_data';\n",
       "          await google.colab.output.renderOutput(dataTable, element);\n",
       "          const docLink = document.createElement('div');\n",
       "          docLink.innerHTML = docLinkHtml;\n",
       "          element.appendChild(docLink);\n",
       "        }\n",
       "      </script>\n",
       "    </div>\n",
       "  </div>\n",
       "  "
      ],
      "text/plain": [
       "        age       bmi  children  sex_female  sex_male  smoker_no  smoker_yes  \\\n",
       "0 -1.438764 -0.453320 -0.908614           1         0          0           1   \n",
       "1 -1.509965  0.509621 -0.078767           0         1          1           0   \n",
       "2 -0.797954  0.383307  1.580926           0         1          1           0   \n",
       "3 -0.441948 -1.305531 -0.908614           0         1          1           0   \n",
       "4 -0.513149 -0.292556 -0.908614           0         1          1           0   \n",
       "\n",
       "   region_northeast  region_northwest  region_southeast  region_southwest  \\\n",
       "0                 0                 0                 0                 1   \n",
       "1                 0                 0                 1                 0   \n",
       "2                 0                 0                 1                 0   \n",
       "3                 0                 1                 0                 0   \n",
       "4                 0                 1                 0                 0   \n",
       "\n",
       "   charges_log  \n",
       "0     9.734176  \n",
       "1     7.453302  \n",
       "2     8.400538  \n",
       "3     9.998092  \n",
       "4     8.260197  "
      ]
     },
     "execution_count": 40,
     "metadata": {},
     "output_type": "execute_result"
    }
   ],
   "source": [
    "data.head()"
   ]
  },
  {
   "cell_type": "markdown",
   "id": "297ed381",
   "metadata": {
    "id": "297ed381"
   },
   "source": [
    "Теперь формируем обучающую и тестовую выборки"
   ]
  },
  {
   "cell_type": "code",
   "execution_count": 41,
   "id": "da9b36e1",
   "metadata": {
    "id": "da9b36e1"
   },
   "outputs": [],
   "source": [
    "y_name = 'charges_log'\n",
    "X = data.drop([y_name], axis=1).to_numpy()\n",
    "y = data[y_name].to_numpy().reshape(-1, 1)"
   ]
  },
  {
   "cell_type": "code",
   "execution_count": 42,
   "id": "236fba14",
   "metadata": {
    "colab": {
     "base_uri": "https://localhost:8080/"
    },
    "id": "236fba14",
    "outputId": "031be284-122b-47fe-ef6a-f4d5f637e0e8"
   },
   "outputs": [
    {
     "name": "stdout",
     "output_type": "stream",
     "text": [
      "X:\n",
      "[[-1.43876426 -0.45332    -0.90861367  1.          0.          0.\n",
      "   1.          0.          0.          0.          1.        ]\n",
      " [-1.50996545  0.5096211  -0.07876719  0.          1.          1.\n",
      "   0.          0.          0.          1.          0.        ]\n",
      " [-0.79795355  0.38330685  1.58092576  0.          1.          1.\n",
      "   0.          0.          0.          1.          0.        ]\n",
      " [-0.4419476  -1.30553108 -0.90861367  0.          1.          1.\n",
      "   0.          0.          1.          0.          0.        ]\n",
      " [-0.51314879 -0.29255641 -0.90861367  0.          1.          1.\n",
      "   0.          0.          1.          0.          0.        ]]\n",
      "y:\n",
      "[[9.73417643]\n",
      " [7.45330245]\n",
      " [8.40053847]\n",
      " [9.9980916 ]\n",
      " [8.26019685]]\n"
     ]
    }
   ],
   "source": [
    "print(\"X:\")\n",
    "print(X[:5])\n",
    "print(\"y:\")\n",
    "print(y[:5])"
   ]
  },
  {
   "cell_type": "code",
   "execution_count": 43,
   "id": "2bf34a0d",
   "metadata": {
    "colab": {
     "base_uri": "https://localhost:8080/"
    },
    "id": "2bf34a0d",
    "outputId": "cf47f5db-3b20-4818-8c95-8da1bed0ae1d"
   },
   "outputs": [
    {
     "name": "stdout",
     "output_type": "stream",
     "text": [
      "(1338, 11)\n"
     ]
    }
   ],
   "source": [
    "print(X.shape)"
   ]
  },
  {
   "cell_type": "markdown",
   "id": "7bdeadb2",
   "metadata": {
    "id": "7bdeadb2"
   },
   "source": [
    "Возьмем первые 1000 наблюдений для обучения модели, а оставшиеся для теста"
   ]
  },
  {
   "cell_type": "code",
   "execution_count": 44,
   "id": "40c48b73",
   "metadata": {
    "id": "40c48b73"
   },
   "outputs": [],
   "source": [
    "split_idx = 1000\n",
    "X_train = X[:split_idx]\n",
    "y_train = y[:split_idx]\n",
    "X_test = X[split_idx:]\n",
    "y_test = y[split_idx:]"
   ]
  },
  {
   "cell_type": "markdown",
   "id": "8d1e8155",
   "metadata": {
    "id": "8d1e8155"
   },
   "source": [
    "Теперь ваша задача натренировать нейросеть так, чтобы она научилась предсказывать размер страховки для конкретного человека"
   ]
  },
  {
   "cell_type": "code",
   "execution_count": 57,
   "id": "UbLlwcKnsbJp",
   "metadata": {
    "id": "UbLlwcKnsbJp"
   },
   "outputs": [],
   "source": [
    "class ReLULayer():\n",
    "    def __init__(self):\n",
    "        self.params = []\n",
    "        self.gradInput = None\n",
    "\n",
    "    def forward(self, X):\n",
    "        self.X = X.copy()\n",
    "        output = np.maximum(X, 0)\n",
    "        return output\n",
    "    \n",
    "    def backward(self, dout):\n",
    "        self.gradInput = dout.copy()\n",
    "        self.gradInput[self.X <= 0] = 0\n",
    "        return self.gradInput, []"
   ]
  },
  {
   "cell_type": "code",
   "execution_count": 47,
   "id": "0f9d7189",
   "metadata": {
    "colab": {
     "base_uri": "https://localhost:8080/"
    },
    "id": "0f9d7189",
    "outputId": "deba43a7-9761-46a9-b2e8-e2fa5f7f28e5"
   },
   "outputs": [
    {
     "data": {
      "text/plain": [
       "(1000, 11)"
      ]
     },
     "execution_count": 47,
     "metadata": {},
     "output_type": "execute_result"
    }
   ],
   "source": [
    "X_train.shape"
   ]
  },
  {
   "cell_type": "code",
   "execution_count": 64,
   "id": "3f6d4545",
   "metadata": {
    "colab": {
     "base_uri": "https://localhost:8080/",
     "height": 468
    },
    "id": "3f6d4545",
    "outputId": "48dca764-611f-43fa-bd0b-919952608138"
   },
   "outputs": [
    {
     "data": {
      "image/png": "[encoded data removed]",
      "text/plain": [
       "<Figure size 1500x500 with 2 Axes>"
      ]
     },
     "metadata": {},
     "output_type": "display_data"
    }
   ],
   "source": [
    "LEARNING_RATE = 1e-3  # с этим параметром придется поиграться\n",
    "N_EPOCHS = 90  # c этим тоже\n",
    "\n",
    "# инициализируем нейросеть\n",
    "model = NN(MSELoss())\n",
    "\n",
    "linear1 = LinearLayer(11, 7)\n",
    "model.add_layer(linear1)\n",
    "\n",
    "sigmoid1 = SigmoidLayer()\n",
    "model.add_layer(sigmoid1)\n",
    "\n",
    "linear2 = LinearLayer(7, 3)\n",
    "model.add_layer(linear2)\n",
    "\n",
    "relu1 = ReLULayer()\n",
    "model.add_layer(relu1)\n",
    "\n",
    "sigmoid2 = SigmoidLayer()\n",
    "model.add_layer(sigmoid2)\n",
    "\n",
    "linear3 = LinearLayer(3, 1)\n",
    "model.add_layer(linear3)\n",
    "\n",
    "relu2 = ReLULayer()\n",
    "model.add_layer(relu2)\n",
    "\n",
    "\n",
    "model = train(model, X_train, y_train, minibatch_size=128, epoch=N_EPOCHS,\n",
    "           learning_rate=LEARNING_RATE, X_val=X_test, y_val=y_test, verbose=True)"
   ]
  },
  {
   "cell_type": "markdown",
   "id": "dc5c0ec4",
   "metadata": {
    "id": "dc5c0ec4"
   },
   "source": [
    "Оценим работу модели"
   ]
  },
  {
   "cell_type": "code",
   "execution_count": 65,
   "id": "88bd3539",
   "metadata": {
    "colab": {
     "base_uri": "https://localhost:8080/"
    },
    "id": "88bd3539",
    "outputId": "e43e46f9-a3a1-4dd6-d255-e9cf1e5d7719"
   },
   "outputs": [
    {
     "name": "stdout",
     "output_type": "stream",
     "text": [
      "Средняя абсолютная ошибка на трейне: 0.612\n",
      "Средняя абсолютная ошибка на тесте: 0.655\n"
     ]
    }
   ],
   "source": [
    "y_train_pred = model.predict(X_train)\n",
    "mean_error_train = np.mean(abs(y_train - y_train_pred))\n",
    "print(f\"Средняя абсолютная ошибка на трейне: {mean_error_train:.3f}\")\n",
    "\n",
    "y_test_pred = model.predict(X_test)\n",
    "mean_error_test = np.mean(abs(y_test - y_test_pred))\n",
    "print(f\"Средняя абсолютная ошибка на тесте: {mean_error_test:.3f}\")"
   ]
  },
  {
   "cell_type": "markdown",
   "id": "9e9dbc89",
   "metadata": {
    "id": "9e9dbc89"
   },
   "source": [
    "У меня получилась средняя ошибка на трейне **0.766**, на тесте **0.835**  \n",
    "**Эти значения надо побить** (ваши значения должны быть меньше моих)"
   ]
  },
  {
   "cell_type": "markdown",
   "id": "c6e934a5",
   "metadata": {
    "id": "c6e934a5"
   },
   "source": [
    "Выше мы оценивали логарифмы, давайте оценим истинные значения"
   ]
  },
  {
   "cell_type": "code",
   "execution_count": 66,
   "id": "de9f71c6",
   "metadata": {
    "colab": {
     "base_uri": "https://localhost:8080/"
    },
    "id": "de9f71c6",
    "outputId": "72c98489-7e9a-4a22-f5c0-336c340006c8"
   },
   "outputs": [
    {
     "name": "stdout",
     "output_type": "stream",
     "text": [
      "Средняя ошибка на трейне: 7324.59\n",
      "Средняя ошибка на тесте: 7927.80\n"
     ]
    }
   ],
   "source": [
    "y_train_pred = model.predict(X_train)\n",
    "y_train_pred_true_values = np.exp(y_train_pred)\n",
    "y_train_true_values = np.exp(y_train)\n",
    "mean_error_train = np.mean(abs(y_train_true_values - y_train_pred_true_values))\n",
    "print(f\"Средняя ошибка на трейне: {mean_error_train:.2f}\")\n",
    "\n",
    "y_test_pred = model.predict(X_test)\n",
    "y_test_pred_true_values = np.exp(y_test_pred)\n",
    "y_test_true_values = np.exp(y_test)\n",
    "mean_error_test = np.mean(abs(y_test_true_values - y_test_pred_true_values))\n",
    "print(f\"Средняя ошибка на тесте: {mean_error_test:.2f}\")"
   ]
  },
  {
   "cell_type": "markdown",
   "id": "fe1117c4",
   "metadata": {
    "id": "fe1117c4"
   },
   "source": [
    "У меня получилась средняя ошибка на трейне **8090.09**, на тесте **9007.43**  \n",
    "**Эти значения тоже надо побить** (ваши значения должны быть меньше моих)"
   ]
  },
  {
   "cell_type": "markdown",
   "id": "3cc0cc42",
   "metadata": {
    "id": "3cc0cc42"
   },
   "source": [
    "Оценим среднюю абсолютную процентную ошибку (метрика называется MAPE)"
   ]
  },
  {
   "cell_type": "code",
   "execution_count": 67,
   "id": "79e468d6",
   "metadata": {
    "id": "79e468d6"
   },
   "outputs": [],
   "source": [
    "def mape_count(y_true, y_pred):\n",
    "    return np.mean((abs(y_true - y_pred) / y_true) * 100)"
   ]
  },
  {
   "cell_type": "code",
   "execution_count": 68,
   "id": "cf2a3b70",
   "metadata": {
    "colab": {
     "base_uri": "https://localhost:8080/"
    },
    "id": "cf2a3b70",
    "outputId": "10dd13fb-530f-41cf-de0f-e29f1218ae3c"
   },
   "outputs": [
    {
     "name": "stdout",
     "output_type": "stream",
     "text": [
      "MAPE train: 67.37%\n",
      "MAPE test: 69.13%\n"
     ]
    }
   ],
   "source": [
    "mape_train = mape_count(y_train_true_values, y_train_pred_true_values)\n",
    "mape_test = mape_count(y_test_true_values, y_test_pred_true_values)\n",
    "print(f\"MAPE train: {mape_train:.2f}%\")\n",
    "print(f\"MAPE test: {mape_test:.2f}%\")"
   ]
  },
  {
   "cell_type": "markdown",
   "id": "eef147a1",
   "metadata": {
    "id": "eef147a1"
   },
   "source": [
    "У меня получилось MAPE на трейне **95.11%**, на тесте **89.10%**  \n",
    "**Эти значения надо побить** (ваши значения должны быть меньше моих)"
   ]
  },
  {
   "cell_type": "markdown",
   "id": "4ee0d2de",
   "metadata": {
    "id": "4ee0d2de"
   },
   "source": [
    "## Если все получилось, то я вас поздравляю :)"
   ]
  },
  {
   "cell_type": "markdown",
   "id": "03456702",
   "metadata": {
    "id": "03456702"
   },
   "source": [
    "![](http://sun9-16.userapi.com/impf/c840737/v840737590/55ded/Ns6wztlxubY.jpg?size=604x466&quality=96&sign=e4647d7e87db4c211d138163f60ea33b&type=album)  \n",
    "плюс за то, что завершил(а) эту лабу"
   ]
  },
  {
   "cell_type": "markdown",
   "id": "c53de20a",
   "metadata": {
    "id": "c53de20a"
   },
   "source": [
    "P.S. ниже есть _необязательная_ задача для жаждущих еще поупражняться"
   ]
  },
  {
   "cell_type": "markdown",
   "id": "a3f54983",
   "metadata": {
    "id": "a3f54983"
   },
   "source": [
    "# Задача 6\\*. Попробуйте сделать настоящий линейный слой\n",
    "То есть добавить еще и вектор смещений B, и написать соответствующий функционал в `forward` и `backward` методах  \n",
    "Далее собрать из нейросеть при помощи полноценных линейных слоев и посмотреть, улучшится ли качество при таком подходе"
   ]
  }
 ],
 "metadata": {
  "colab": {
   "provenance": []
  },
  "kernelspec": {
   "display_name": "Python 3 (ipykernel)",
   "language": "python",
   "name": "python3"
  },
  "language_info": {
   "codemirror_mode": {
    "name": "ipython",
    "version": 3
   },
   "file_extension": ".py",
   "mimetype": "text/x-python",
   "name": "python",
   "nbconvert_exporter": "python",
   "pygments_lexer": "ipython3",
   "version": "3.9.13"
  }
 },
 "nbformat": 4,
 "nbformat_minor": 5
}
